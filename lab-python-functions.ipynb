{
 "cells": [
  {
   "cell_type": "markdown",
   "id": "25d7736c-ba17-4aff-b6bb-66eba20fbf4e",
   "metadata": {},
   "source": [
    "# Lab | Functions"
   ]
  },
  {
   "cell_type": "markdown",
   "id": "0c581062-8967-4d93-b06e-62833222f930",
   "metadata": {
    "tags": []
   },
   "source": [
    "## Exercise: Managing Customer Orders with Functions\n",
    "\n",
    "In the previous exercise, you improved the code for managing customer orders by using loops and flow control. Now, let's take it a step further and refactor the code by introducing functions.\n",
    "\n",
    "Follow the steps below to complete the exercise:\n",
    "\n",
    "1. Define a function named `initialize_inventory` that takes `products` as a parameter. Inside the function, implement the code for initializing the inventory dictionary using a loop and user input.\n",
    "\n",
    "2. Define a function named `get_customer_orders` that takes no parameters. Inside the function, implement the code for prompting the user to enter the product names using a loop. The function should return the `customer_orders` set.\n",
    "\n",
    "3. Define a function named `update_inventory` that takes `customer_orders` and `inventory` as parameters. Inside the function, implement the code for updating the inventory dictionary based on the customer orders.\n",
    "\n",
    "4. Define a function named `calculate_order_statistics` that takes `customer_orders` and `products` as parameters. Inside the function, implement the code for calculating the order statistics (total products ordered, and percentage of unique products ordered). The function should return these values.\n",
    "\n",
    "5. Define a function named `print_order_statistics` that takes `order_statistics` as a parameter. Inside the function, implement the code for printing the order statistics.\n",
    "\n",
    "6. Define a function named `print_updated_inventory` that takes `inventory` as a parameter. Inside the function, implement the code for printing the updated inventory.\n",
    "\n",
    "7. Call the functions in the appropriate sequence to execute the program and manage customer orders.\n",
    "\n",
    "Hints for functions:\n",
    "\n",
    "- Consider the input parameters required for each function and their return values.\n",
    "- Utilize function parameters and return values to transfer data between functions.\n",
    "- Test your functions individually to ensure they work correctly.\n",
    "\n",
    "\n"
   ]
  },
  {
   "cell_type": "code",
   "execution_count": 62,
   "id": "983e99d7",
   "metadata": {},
   "outputs": [],
   "source": [
    "# Define a function named `initialize_inventory` that takes `products` as a parameter.\n",
    "# Initializes the inventory dictionary using a loop and user input.\n",
    "def initialize_inventory(products):\n",
    "    inventory = {}\n",
    "    for product in products:\n",
    "        value = int(input(f'How many {product}s are in the inventory? '))\n",
    "        inventory[product] = value\n",
    "    return inventory\n",
    "# Define a function named `get_customer_orders` that takes no parameters. Inside the function, implement \n",
    "# the code for prompting the user to enter the product names using a loop. The function should return the\n",
    "# `customer_orders` set.\n",
    "def get_customer_orders():\n",
    "    customer_orders = set()\n",
    "    answer = 'yes'\n",
    "    while answer == 'yes':\n",
    "        customer_orders.add(input('Please type a product you would like to purchase'))\n",
    "        answer = input('Would you like to add another product to your order? (yes/no)')\n",
    "        while answer != 'yes' and answer!= 'no':\n",
    "            print('That is an invalid input, please answer yes or no')\n",
    "            answer = input('Would you like to add another product to your order? (yes/no)')\n",
    "    return customer_orders\n",
    "# Define a function named `update_inventory` that takes `customer_orders` and `inventory` as parameters\n",
    "# Inside the function, implement the code for updating the inventory dictionary based on the customer orders.\n",
    "def update_inventory(customer_orders, inventory):\n",
    "    for item in customer_orders:\n",
    "        inventory[item] -= 1\n",
    "    return inventory\n",
    "# Define a function named `calculate_order_statistics` that takes `customer_orders` and `products` \n",
    "# as parameters. Inside the function, implement the code for calculating the order statistics\n",
    "# (total products ordered, and percentage of unique products ordered). The function should return these values.\n",
    "def calculate_order_statistics(customer_orders, products):\n",
    "    total_products_ordered = len(customer_orders)\n",
    "    percent_unique = total_products_ordered/len(products)*100\n",
    "    order_statistics = [total_products_ordered, percent_unique]\n",
    "    return order_statistics\n",
    "# Define a function named `print_order_statistics` that takes `order_statistics` as a parameter. Inside the \n",
    "# function, implement the code for printing the order statistics.\n",
    "def print_order_statistics(order_statistics):\n",
    "        print(f'The customer ordered {order_statistics[0]} products')\n",
    "        print(f'This represents the {order_statistics[1]}% of products in the inventory')\n",
    "# Define a function named `print_updated_inventory` that takes `inventory` as a parameter. Inside the function, \n",
    "# implement the code for printing the updated inventory.\n",
    "def print_updated_inventory(inventory):\n",
    "    print(f'The updated inventory after customer order is {inventory}')\n"
   ]
  },
  {
   "cell_type": "code",
   "execution_count": 63,
   "id": "0231d252",
   "metadata": {},
   "outputs": [
    {
     "name": "stdout",
     "output_type": "stream",
     "text": [
      "The customer ordered 1 products\n",
      "This represents the 33.33333333333333% of products in the inventory\n",
      "The updated inventory after customer order is {'shirt': 5, 'book': 4, 'bottle': 5}\n"
     ]
    }
   ],
   "source": [
    "products = ['shirt', 'book', 'bottle']\n",
    "inventory = initialize_inventory(products)\n",
    "customer_orders = get_customer_orders()\n",
    "inventory = update_inventory(customer_orders, inventory)\n",
    "order_statistics = calculate_order_statistics(customer_orders,products)\n",
    "print_order_statistics(order_statistics)\n",
    "print_updated_inventory(inventory)\n"
   ]
  }
 ],
 "metadata": {
  "kernelspec": {
   "display_name": "base",
   "language": "python",
   "name": "python3"
  },
  "language_info": {
   "codemirror_mode": {
    "name": "ipython",
    "version": 3
   },
   "file_extension": ".py",
   "mimetype": "text/x-python",
   "name": "python",
   "nbconvert_exporter": "python",
   "pygments_lexer": "ipython3",
   "version": "3.13.5"
  }
 },
 "nbformat": 4,
 "nbformat_minor": 5
}
